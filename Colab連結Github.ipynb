{
  "nbformat": 4,
  "nbformat_minor": 0,
  "metadata": {
    "colab": {
      "provenance": [],
      "authorship_tag": "ABX9TyMzTYjgxEaAmRzHJbReL21d",
      "include_colab_link": true
    },
    "kernelspec": {
      "name": "python3",
      "display_name": "Python 3"
    },
    "language_info": {
      "name": "python"
    }
  },
  "cells": [
    {
      "cell_type": "markdown",
      "metadata": {
        "id": "view-in-github",
        "colab_type": "text"
      },
      "source": [
        "<a href=\"https://colab.research.google.com/github/YanwenLai/forTAClass/blob/main/Colab%E9%80%A3%E7%B5%90Github.ipynb\" target=\"_parent\"><img src=\"https://colab.research.google.com/assets/colab-badge.svg\" alt=\"Open In Colab\"/></a>"
      ]
    },
    {
      "cell_type": "markdown",
      "source": [
        "這是教學用示範"
      ],
      "metadata": {
        "id": "cQmwzj9ZYW4M"
      }
    },
    {
      "cell_type": "code",
      "execution_count": null,
      "metadata": {
        "id": "EwT9Wj6LXT4y"
      },
      "outputs": [],
      "source": [
        "def mySum():\n",
        "    x, y = int(input('請輸入第1個數字: ')), int(input('請輸入第2個數字: '))\n",
        "    print(f'{x} + {y} = {x + y}')\n"
      ]
    },
    {
      "cell_type": "code",
      "source": [
        "mySum()"
      ],
      "metadata": {
        "colab": {
          "base_uri": "https://localhost:8080/"
        },
        "id": "Ux8yer6cZzeJ",
        "outputId": "04298234-9e56-4127-c03d-da01f86e85e5"
      },
      "execution_count": null,
      "outputs": [
        {
          "output_type": "stream",
          "name": "stdout",
          "text": [
            "請輸入第1個數字: 5\n",
            "請輸入第2個數字: 6\n",
            "5 + 6 = 11\n"
          ]
        }
      ]
    },
    {
      "cell_type": "markdown",
      "source": [
        "這時候我又多了一些東西…"
      ],
      "metadata": {
        "id": "KKIxcfPiameK"
      }
    },
    {
      "cell_type": "code",
      "source": [
        "def mySub():\n",
        "    x, y = int(input('請輸入第1個數字: ')), int(input('請輸入第2個數字: '))\n",
        "    print(f'{x} - {y} = {x - y}')"
      ],
      "metadata": {
        "id": "tk51ZaP2al7i"
      },
      "execution_count": 2,
      "outputs": []
    },
    {
      "cell_type": "code",
      "source": [
        "mySub()"
      ],
      "metadata": {
        "id": "uRSXaPx0Z4Ot",
        "outputId": "f190bcf8-360d-492d-ddfa-6637f3f98e96",
        "colab": {
          "base_uri": "https://localhost:8080/"
        }
      },
      "execution_count": 3,
      "outputs": [
        {
          "output_type": "stream",
          "name": "stdout",
          "text": [
            "請輸入第1個數字: 6\n",
            "請輸入第2個數字: 9\n",
            "6 - 9 = -3\n"
          ]
        }
      ]
    },
    {
      "cell_type": "code",
      "source": [],
      "metadata": {
        "id": "gSj3F8Koa639"
      },
      "execution_count": null,
      "outputs": []
    }
  ]
}