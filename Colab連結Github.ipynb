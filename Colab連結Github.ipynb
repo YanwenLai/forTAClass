{
  "nbformat": 4,
  "nbformat_minor": 0,
  "metadata": {
    "colab": {
      "provenance": [],
      "authorship_tag": "ABX9TyNxR83KvXQlqFfdrhvd767v",
      "include_colab_link": true
    },
    "kernelspec": {
      "name": "python3",
      "display_name": "Python 3"
    },
    "language_info": {
      "name": "python"
    }
  },
  "cells": [
    {
      "cell_type": "markdown",
      "metadata": {
        "id": "view-in-github",
        "colab_type": "text"
      },
      "source": [
        "<a href=\"https://colab.research.google.com/github/YanwenLai/forTAClass/blob/main/Colab%E9%80%A3%E7%B5%90Github.ipynb\" target=\"_parent\"><img src=\"https://colab.research.google.com/assets/colab-badge.svg\" alt=\"Open In Colab\"/></a>"
      ]
    },
    {
      "cell_type": "markdown",
      "source": [
        "這是教學用示範"
      ],
      "metadata": {
        "id": "cQmwzj9ZYW4M"
      }
    },
    {
      "cell_type": "code",
      "execution_count": 4,
      "metadata": {
        "id": "EwT9Wj6LXT4y"
      },
      "outputs": [],
      "source": [
        "def mySum():\n",
        "    x, y = int(input('請輸入第1個數字: ')), int(input('請輸入第2個數字: '))\n",
        "    print(f'{x} + {y} = {x + y}')\n"
      ]
    },
    {
      "cell_type": "code",
      "source": [
        "mySum()"
      ],
      "metadata": {
        "colab": {
          "base_uri": "https://localhost:8080/"
        },
        "id": "Ux8yer6cZzeJ",
        "outputId": "04298234-9e56-4127-c03d-da01f86e85e5"
      },
      "execution_count": 5,
      "outputs": [
        {
          "output_type": "stream",
          "name": "stdout",
          "text": [
            "請輸入第1個數字: 5\n",
            "請輸入第2個數字: 6\n",
            "5 + 6 = 11\n"
          ]
        }
      ]
    },
    {
      "cell_type": "code",
      "source": [],
      "metadata": {
        "id": "uRSXaPx0Z4Ot"
      },
      "execution_count": null,
      "outputs": []
    }
  ]
}