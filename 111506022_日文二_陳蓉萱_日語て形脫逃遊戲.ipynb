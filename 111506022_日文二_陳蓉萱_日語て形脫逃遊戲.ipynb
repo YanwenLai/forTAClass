{
  "nbformat": 4,
  "nbformat_minor": 0,
  "metadata": {
    "colab": {
      "provenance": [],
      "include_colab_link": true
    },
    "kernelspec": {
      "name": "python3",
      "display_name": "Python 3"
    },
    "language_info": {
      "name": "python"
    }
  },
  "cells": [
    {
      "cell_type": "markdown",
      "metadata": {
        "id": "view-in-github",
        "colab_type": "text"
      },
      "source": [
        "<a href=\"https://colab.research.google.com/github/YanwenLai/forTAClass/blob/main/111506022_%E6%97%A5%E6%96%87%E4%BA%8C_%E9%99%B3%E8%93%89%E8%90%B1_%E6%97%A5%E8%AA%9E%E3%81%A6%E5%BD%A2%E8%84%AB%E9%80%83%E9%81%8A%E6%88%B2.ipynb\" target=\"_parent\"><img src=\"https://colab.research.google.com/assets/colab-badge.svg\" alt=\"Open In Colab\"/></a>"
      ]
    },
    {
      "cell_type": "markdown",
      "source": [
        "###1.專案說明\n",
        "期中做了貓狗搶食物大戰的遊戲，透過玩家與電腦猜拳，猜贏先移動到目標的一方獲勝。\n",
        "\n",
        "期末想利用在系上所學到的日語動詞變化，結合期中的棋盤遊戲，進行改編且能達到學習效果。（圖為期中專案）"
      ],
      "metadata": {
        "id": "EJlzsOn_KV0q"
      }
    },
    {
      "cell_type": "markdown",
      "source": [
        "![貓狗.jpg](data:image/jpeg;base64,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)"
      ],
      "metadata": {
        "id": "6FAtVoxjKJPL"
      }
    },
    {
      "cell_type": "markdown",
      "source": [
        "###2.日語的て形\n",
        "動詞て形主要的功能是連接句子與句子，以及動詞與動詞。\n",
        "\n",
        "以下是動詞原形變化至動詞て形的規則\n",
        "\n",
        "\n",
        "\n",
        "1.一類動詞\n",
        "\n",
        "‧ 字尾為す的動詞：將最後的字母發音由u換成i，加上て\n",
        "\n",
        " ex:貸す kasu→貸て kashite\n",
        "\n",
        "‧ 字尾為く、ぐ的動詞：將最後的字母發音由u換成i，加上て、で\n",
        "\n",
        " ex:書く　kaku→書いて kaite，泳ぐ　oyogu→泳いで oyoide\n",
        "\n",
        "‧ 字尾為う、つ、る的動詞：加上促音っ後，再加上て\n",
        "\n",
        " ex:買う　kau→買って katte，待つ　matsu→待って matte，切る　kiru→切って kitte\n",
        "\n",
        "‧ 字尾為ぶ、ぬ、む的動詞：將ぶ、ぬ、む改為んで\n",
        "\n",
        " ex:飛ぶ　tobu→飛んで tonde，読む　yomu→読んで yonde，死ぬ　shinu→死んで shinde\n",
        "\n",
        "2.二類動詞\n",
        "\n",
        "‧ 將動詞字尾的る換成て\n",
        "\n",
        " ex:食べる　taberu→食べて tabete，見る　miru→見て mite\n",
        "\n",
        "3.不規則動詞\n",
        "\n",
        "‧ する換成して，比較特別的：来る→来て\n",
        "\n",
        " ex:勉強する benkyousuru→勉強して benkyoushite"
      ],
      "metadata": {
        "id": "vX4L8wDBKRzC"
      }
    },
    {
      "cell_type": "markdown",
      "source": [
        "###3.遊戲說明\n",
        "\n",
        "跟期中專案不一樣的是，玩家與電腦的目標並不一致，玩家須答對問題往終點前進，電腦則是在玩家答錯時向玩家靠近。\n",
        "\n",
        "1.回答て形變化的問題\n",
        "\n",
        "2.答對可以靠近終點一步\n",
        "\n",
        "3.答錯時鯊魚會靠近\n",
        "\n",
        "4.成功答對問題抵達終點則遊戲獲勝，答錯問題被鯊魚吃掉則遊戲失敗"
      ],
      "metadata": {
        "id": "ijdk18g3M0Fo"
      }
    },
    {
      "cell_type": "markdown",
      "source": [
        "輸入常用套件"
      ],
      "metadata": {
        "id": "qNM5SP3V57Vh"
      }
    },
    {
      "cell_type": "code",
      "source": [
        "%matplotlib inline\n",
        "\n",
        "import numpy as np\n",
        "import pandas as pd\n",
        "import matplotlib.pyplot as plt"
      ],
      "metadata": {
        "id": "lDXM8qSg5_Cm"
      },
      "execution_count": null,
      "outputs": []
    },
    {
      "cell_type": "code",
      "source": [
        "import random\n",
        "\n",
        "#輸入動詞和對應的て形\n",
        "verbs_te_form = {\n",
        "    \"立つ\":\"立って\",\n",
        "    \"送る\":\"送って\",\n",
        "    \"帰る\":\"帰って\",\n",
        "    \"泳ぐ\":\"泳いで\",\n",
        "    \"読む\":\"読んで\",\n",
        "    \"住む\":\"住んで\",\n",
        "    \"死ぬ\":\"死んで\",\n",
        "    \"開ける\":\"開けて\",\n",
        "    \"忘れる\":\"忘れて\",\n",
        "    \"始める\":\"始めて\",\n",
        "    \"遊ぶ\":\"遊んで\",\n",
        "    \"飛ぶ\":\"飛んで\",\n",
        "    \"待つ\":\"待って\",\n",
        "    \"言う\":\"言って\",\n",
        "    \"引く\":\"引いて\",\n",
        "    \"出す\":\"出して\",\n",
        "    \"貸す\":\"貸して\",\n",
        "    \"書く\":\"書いて\",\n",
        "    \"食べる\": \"食べて\",\n",
        "    \"行く\": \"行って\",\n",
        "    \"見る\": \"見て\",\n",
        "    \"勉強する\": \"勉強して\",\n",
        "    \"来る\": \"来て\",\n",
        "}\n",
        "\n",
        "#印出遊戲板，顯示玩家、電腦與終點的位置，使用for迴圈\n",
        "def print_board(player, computer, goal):\n",
        "    for i in range(5):\n",
        "        for j in range(5):\n",
        "            if (i, j) == player:\n",
        "                print(\"👦\", end=\" \")\n",
        "            elif (i, j) == computer:\n",
        "                print(\"🦈\", end=\" \")\n",
        "            elif (i, j) == goal:\n",
        "                print(\"🏁\", end=\" \")\n",
        "            else:\n",
        "                print(\"⬜\", end=\" \")\n",
        "        print()\n",
        "\n",
        "#根據當前位置和目標位置，決定下一步的移動方向，使得玩家向終點移動，電腦向玩家移動。\n",
        "def move_towards(player, target):\n",
        "    if player[0] < target[0]:\n",
        "        return (player[0] + 1, player[1])\n",
        "    elif player[0] > target[0]:\n",
        "        return (player[0] - 1, player[1])\n",
        "    elif player[1] < target[1]:\n",
        "        return (player[0], player[1] + 1)\n",
        "    elif player[1] > target[1]:\n",
        "        return (player[0], player[1] - 1)\n",
        "    else:\n",
        "        return player\n",
        "\n",
        "def practice_te_form():\n",
        "    #隨機選一個動詞\n",
        "    verb, te_form = random.choice(list(verbs_te_form.items()))\n",
        "\n",
        "    #提示玩家輸入\n",
        "    user_input = input(f\"請將動詞 '{verb}' 轉換成て型：\")\n",
        "\n",
        "    #檢查答案是否正確\n",
        "    if user_input == te_form:\n",
        "        print(\"恭喜你，答對了！\")\n",
        "        return True\n",
        "    else:\n",
        "        print(f\"答錯了，正確答案是 '{te_form}'。\")\n",
        "        return False\n",
        "\n",
        "#執行遊戲\n",
        "def play_game():\n",
        "    player = (0, 0)  #左上角\n",
        "    computer = (4, 0)  #左下角\n",
        "    goal = (2, 4)  #離兩邊一樣遠的地方\n",
        "\n",
        "    print(\"歡迎來到日文動詞て形逃脫遊戲！\")\n",
        "    print(\"答對問題可以向終點前進，答錯則會有鯊魚靠近，如果被鯊魚吃掉則遊戲結束。\")\n",
        "\n",
        "    while player != goal and player != computer:\n",
        "        print_board(player, computer, goal)\n",
        "\n",
        "        result = practice_te_form()\n",
        "\n",
        "        if result:\n",
        "            player = move_towards(player, goal)\n",
        "            print(\"恭喜，你成功前進一步！\")\n",
        "        else:\n",
        "            computer = move_towards(computer, player)\n",
        "            print(\"答錯了，注意鯊魚靠近！\")\n",
        "\n",
        "    print_board(player, computer, goal)\n",
        "\n",
        "    if player == goal:\n",
        "        print(\"恭喜，你成功抵達了終點！\")\n",
        "    else:\n",
        "        print(\"糟糕，你被鯊魚吃掉了，遊戲結束！\")\n",
        "\n",
        "if __name__ == \"__main__\":\n",
        "    play_game()\n"
      ],
      "metadata": {
        "colab": {
          "base_uri": "https://localhost:8080/"
        },
        "id": "Lunr9x-bXF8s",
        "outputId": "261652a8-37e5-46d5-d509-4bbe367cc0d7"
      },
      "execution_count": null,
      "outputs": [
        {
          "output_type": "stream",
          "name": "stdout",
          "text": [
            "歡迎來到日文動詞て形逃脫遊戲！\n",
            "答對問題可以向終點前進，答錯則會有鯊魚靠近，如果被鯊魚吃掉則遊戲結束。\n",
            "👦 ⬜ ⬜ ⬜ ⬜ \n",
            "⬜ ⬜ ⬜ ⬜ ⬜ \n",
            "⬜ ⬜ ⬜ ⬜ 🏁 \n",
            "⬜ ⬜ ⬜ ⬜ ⬜ \n",
            "🦈 ⬜ ⬜ ⬜ ⬜ \n",
            "請將動詞 '開ける' 轉換成て型：開けて\n",
            "恭喜你，答對了！\n",
            "恭喜，你成功前進一步！\n",
            "⬜ ⬜ ⬜ ⬜ ⬜ \n",
            "👦 ⬜ ⬜ ⬜ ⬜ \n",
            "⬜ ⬜ ⬜ ⬜ 🏁 \n",
            "⬜ ⬜ ⬜ ⬜ ⬜ \n",
            "🦈 ⬜ ⬜ ⬜ ⬜ \n",
            "請將動詞 '来る' 轉換成て型：来て\n",
            "恭喜你，答對了！\n",
            "恭喜，你成功前進一步！\n",
            "⬜ ⬜ ⬜ ⬜ ⬜ \n",
            "⬜ ⬜ ⬜ ⬜ ⬜ \n",
            "👦 ⬜ ⬜ ⬜ 🏁 \n",
            "⬜ ⬜ ⬜ ⬜ ⬜ \n",
            "🦈 ⬜ ⬜ ⬜ ⬜ \n",
            "請將動詞 '読む' 轉換成て型：読んで\n",
            "恭喜你，答對了！\n",
            "恭喜，你成功前進一步！\n",
            "⬜ ⬜ ⬜ ⬜ ⬜ \n",
            "⬜ ⬜ ⬜ ⬜ ⬜ \n",
            "⬜ 👦 ⬜ ⬜ 🏁 \n",
            "⬜ ⬜ ⬜ ⬜ ⬜ \n",
            "🦈 ⬜ ⬜ ⬜ ⬜ \n",
            "請將動詞 '遊ぶ' 轉換成て型：遊んで\n",
            "恭喜你，答對了！\n",
            "恭喜，你成功前進一步！\n",
            "⬜ ⬜ ⬜ ⬜ ⬜ \n",
            "⬜ ⬜ ⬜ ⬜ ⬜ \n",
            "⬜ ⬜ 👦 ⬜ 🏁 \n",
            "⬜ ⬜ ⬜ ⬜ ⬜ \n",
            "🦈 ⬜ ⬜ ⬜ ⬜ \n",
            "請將動詞 '来る' 轉換成て型：来て\n",
            "恭喜你，答對了！\n",
            "恭喜，你成功前進一步！\n",
            "⬜ ⬜ ⬜ ⬜ ⬜ \n",
            "⬜ ⬜ ⬜ ⬜ ⬜ \n",
            "⬜ ⬜ ⬜ 👦 🏁 \n",
            "⬜ ⬜ ⬜ ⬜ ⬜ \n",
            "🦈 ⬜ ⬜ ⬜ ⬜ \n",
            "請將動詞 '送る' 轉換成て型：送って\n",
            "恭喜你，答對了！\n",
            "恭喜，你成功前進一步！\n",
            "⬜ ⬜ ⬜ ⬜ ⬜ \n",
            "⬜ ⬜ ⬜ ⬜ ⬜ \n",
            "⬜ ⬜ ⬜ ⬜ 👦 \n",
            "⬜ ⬜ ⬜ ⬜ ⬜ \n",
            "🦈 ⬜ ⬜ ⬜ ⬜ \n",
            "恭喜，你成功抵達了終點！\n"
          ]
        }
      ]
    }
  ]
}