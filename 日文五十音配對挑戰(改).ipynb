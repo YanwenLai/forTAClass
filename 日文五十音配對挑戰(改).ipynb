{
  "nbformat": 4,
  "nbformat_minor": 0,
  "metadata": {
    "colab": {
      "provenance": [],
      "include_colab_link": true
    },
    "kernelspec": {
      "name": "python3",
      "display_name": "Python 3"
    },
    "language_info": {
      "name": "python"
    }
  },
  "cells": [
    {
      "cell_type": "markdown",
      "metadata": {
        "id": "view-in-github",
        "colab_type": "text"
      },
      "source": [
        "<a href=\"https://colab.research.google.com/github/YanwenLai/forTAClass/blob/main/%E6%97%A5%E6%96%87%E4%BA%94%E5%8D%81%E9%9F%B3%E9%85%8D%E5%B0%8D%E6%8C%91%E6%88%B0(%E6%94%B9).ipynb\" target=\"_parent\"><img src=\"https://colab.research.google.com/assets/colab-badge.svg\" alt=\"Open In Colab\"/></a>"
      ]
    },
    {
      "cell_type": "markdown",
      "source": [
        "# **五十音練習**\n",
        "* 羅馬拼音與平假名配對\n",
        "* 政治大學 111102004 教育二 楊雅茜提供\n"
      ],
      "metadata": {
        "id": "Qnpjn07lgtqf"
      }
    },
    {
      "cell_type": "markdown",
      "source": [
        "# 輸入常用套件"
      ],
      "metadata": {
        "id": "sm6bAxWcjH0w"
      }
    },
    {
      "cell_type": "code",
      "execution_count": 1,
      "metadata": {
        "id": "Fb45zolAgZTb"
      },
      "outputs": [],
      "source": [
        "%matplotlib inline\n",
        "\n",
        "import numpy as np\n",
        "import pandas as pd\n",
        "import matplotlib.pyplot as plt"
      ]
    },
    {
      "cell_type": "markdown",
      "source": [
        "#輸入五十音\n",
        "\n",
        "\n",
        "1.   並且建立對應片假名的字典當作答案\n",
        "2.   使用random打亂平假名順序\n",
        "\n"
      ],
      "metadata": {
        "id": "wN5EO_ymkeYW"
      }
    },
    {
      "cell_type": "code",
      "source": [
        "#輸入一個平假名列表\n",
        "hiragana_list = ['あ', 'い', 'う', 'え', 'お', 'か', 'き', 'く', 'け', 'こ',\n",
        "                 'さ', 'し', 'す', 'せ', 'そ', 'た', 'ち', 'つ', 'て', 'と',\n",
        "                 'な', 'に', 'ぬ', 'ね', 'の', 'は', 'ひ', 'ふ', 'へ', 'ほ',\n",
        "                 'ま', 'み', 'む', 'め', 'も', 'や', 'ゆ', 'よ',\n",
        "                 'ら', 'り', 'る', 'れ', 'ろ', 'わ', 'を', 'ん']"
      ],
      "metadata": {
        "id": "EJuA0AiRjtDt"
      },
      "execution_count": 3,
      "outputs": []
    },
    {
      "cell_type": "code",
      "source": [
        "#輸入五十音羅馬拼音列表\n",
        "romaji_list = ['a', 'i', 'u', 'e', 'o', 'ka', 'ki', 'ku', 'ke', 'ko',\n",
        "               'sa', 'shi', 'su', 'se', 'so', 'ta', 'chi', 'tsu', 'te', 'to',\n",
        "               'na', 'ni', 'nu', 'ne', 'no', 'ha', 'hi', 'fu', 'he', 'ho',\n",
        "               'ma', 'mi', 'mu', 'me', 'mo', 'ya', 'yu', 'yo',\n",
        "               'ra', 'ri', 'ru', 're', 'ro', 'wa', 'wo', 'n']"
      ],
      "metadata": {
        "id": "x-YHSCUQ6DkN"
      },
      "execution_count": 4,
      "outputs": []
    },
    {
      "cell_type": "code",
      "source": [
        "#配對平假名與對應羅馬拼音(當正確答案庫)\n",
        "romaji_dict = {'a': 'あ', 'i': 'い', 'u': 'う', 'e': 'え', 'o': 'お',\n",
        "               'ka': 'か', 'ki': 'き', 'ku': 'く', 'ke': 'け', 'ko': 'こ',\n",
        "               'sa': 'さ', 'shi': 'し', 'su': 'す', 'se': 'せ', 'so': 'そ',\n",
        "               'ta': 'た', 'chi': 'ち', 'tsu': 'つ', 'te': 'て', 'to': 'と',\n",
        "               'na': 'な', 'ni': 'に', 'nu': 'ぬ', 'ne': 'ね', 'no': 'の',\n",
        "               'ha': 'は', 'hi': 'ひ', 'fu': 'ふ', 'he': 'へ', 'ho': 'ほ',\n",
        "               'ma': 'ま', 'mi': 'み', 'mu': 'む', 'me': 'め', 'mo': 'も',\n",
        "               'ya': 'や', 'yu': 'ゆ', 'yo': 'よ',\n",
        "               'ra': 'ら', 'ri': 'り', 'ru': 'る', 're': 'れ', 'ro': 'ろ',\n",
        "               'wa': 'わ', 'wo': 'を', 'n': 'ん'}\n"
      ],
      "metadata": {
        "id": "STC_cRge6GTW"
      },
      "execution_count": null,
      "outputs": []
    },
    {
      "cell_type": "markdown",
      "source": [
        "#製作題目\n",
        "\n",
        "\n",
        "*  利用for迴圈和random從平假名列表中隨機選出一個平假名當作題目\n",
        "* 選項也是由for迴圈製作\n",
        "\n",
        "#製作選項\n",
        "*   先用random.sample挑出三個錯誤的選項\n",
        "*   再從列表中找題目平假名對應的羅馬拼音作為答案選項\n",
        "*   再用random把四個選項打亂\n",
        "*   最後再使用一個for迴圈把四個選項print出來\n",
        "\n",
        "#玩家回答\n",
        "\n",
        "\n",
        "*   用int(input())製作出可讓玩家自由打字的作答區，並提供指示\n",
        "\n",
        "\n",
        "#對答案機制\n",
        "\n",
        "\n",
        "*   使用if讓玩家在回答錯誤和回答正確時分別有不同回應\n",
        "*   若答對則會得到\"答對了!\"的回應\n",
        "*   若答錯則會跳出正解和\"下次再努力!\"\n",
        "*   等十題依序完成後，會跳出\"恭喜遊戲結束了\"\n",
        "\n",
        "\n",
        "\n",
        "\n",
        "\n",
        "\n",
        "\n",
        "\n"
      ],
      "metadata": {
        "id": "RSXabMcAq7HT"
      }
    },
    {
      "cell_type": "code",
      "source": [
        "# 迴圈顯示十題測驗(此測驗只會有10題)\n",
        "for Q in range(10):\n",
        "    # 產生測驗題目\n",
        "    quiz_question = random.choice(hiragana_list)\n",
        "\n",
        "    # 測驗提示\n",
        "    print(\"測驗：以下哪個是「\", quiz_question, \"」？\")\n",
        "    print(\"(打完答案後按Enter鍵就會公布答案)\")\n",
        "    # 選項\n",
        "    options = random.sample(romaji_list, 3)\n",
        "    options.append(romaji_list[hiragana_list.index(quiz_question)])\n",
        "    random.shuffle(options)\n",
        "\n",
        "    # 顯示選項\n",
        "    for i in range(4):\n",
        "        print(f\"{i + 1}. {options[i]}\")\n",
        "    # 答案\n",
        "    correct_answer = options.index(romaji_list[hiragana_list.index(quiz_question)])+1\n",
        "\n",
        "    # 玩家回答\n",
        "    user_answer = int(input(\"請輸入你的答案（1-4）：\"))\n",
        "\n",
        "    # 對答案\n",
        "    if user_answer == correct_answer:\n",
        "        print(\"答對了！\")\n",
        "    else:\n",
        "        print(f\"答案是 \",correct_answer,\"，下次再努力！\")\n",
        "    print()  # 加入空行，使不同題目間有空隔\n",
        "print()\n",
        "print(\"恭喜遊戲結束了\")"
      ],
      "metadata": {
        "colab": {
          "base_uri": "https://localhost:8080/",
          "height": 247
        },
        "id": "W3iJIpUQy2Fm",
        "outputId": "6a3f954b-46e5-48c3-a933-db29785ea084"
      },
      "execution_count": null,
      "outputs": [
        {
          "output_type": "error",
          "ename": "NameError",
          "evalue": "ignored",
          "traceback": [
            "\u001b[0;31m---------------------------------------------------------------------------\u001b[0m",
            "\u001b[0;31mNameError\u001b[0m                                 Traceback (most recent call last)",
            "\u001b[0;32m<ipython-input-3-1123c1b4a489>\u001b[0m in \u001b[0;36m<cell line: 2>\u001b[0;34m()\u001b[0m\n\u001b[1;32m      2\u001b[0m \u001b[0;32mfor\u001b[0m \u001b[0mQ\u001b[0m \u001b[0;32min\u001b[0m \u001b[0mrange\u001b[0m\u001b[0;34m(\u001b[0m\u001b[0;36m10\u001b[0m\u001b[0;34m)\u001b[0m\u001b[0;34m:\u001b[0m\u001b[0;34m\u001b[0m\u001b[0;34m\u001b[0m\u001b[0m\n\u001b[1;32m      3\u001b[0m     \u001b[0;31m# 產生測驗題目\u001b[0m\u001b[0;34m\u001b[0m\u001b[0;34m\u001b[0m\u001b[0m\n\u001b[0;32m----> 4\u001b[0;31m     \u001b[0mquiz_question\u001b[0m \u001b[0;34m=\u001b[0m \u001b[0mrandom\u001b[0m\u001b[0;34m.\u001b[0m\u001b[0mchoice\u001b[0m\u001b[0;34m(\u001b[0m\u001b[0mhiragana_list\u001b[0m\u001b[0;34m)\u001b[0m\u001b[0;34m\u001b[0m\u001b[0;34m\u001b[0m\u001b[0m\n\u001b[0m\u001b[1;32m      5\u001b[0m \u001b[0;34m\u001b[0m\u001b[0m\n\u001b[1;32m      6\u001b[0m     \u001b[0;31m# 測驗提示\u001b[0m\u001b[0;34m\u001b[0m\u001b[0;34m\u001b[0m\u001b[0m\n",
            "\u001b[0;31mNameError\u001b[0m: name 'random' is not defined"
          ]
        }
      ]
    }
  ]
}